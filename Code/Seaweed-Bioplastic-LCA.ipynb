{
 "cells": [
  {
   "attachments": {},
   "cell_type": "markdown",
   "metadata": {},
   "source": [
    "**Code used in the article:**\n",
    "\n",
    "_Life Cycle Assessment of pilot scale production of seaweed-based plastic_\t\n",
    "\n",
    "Maddalen Ayala ^1*, Marianne Thomsen^2, Massimo Pizzol^1\t\t\t\n",
    "\t\t\t\n",
    "^1 Danish Center for Environmental Assessment, Department of Planning, Aalborg University, Rendsburggade 14, 9000 Aalborg, Denmark\t\t\t\n",
    "^2 Department of Food Science, University of Copenhagen, Rolighedsvej 26, 1958 Frederiksberg, Denmark \t\t\t\n",
    "\t\t\t\n",
    "*Corresponding author e-mail: mace@plan.aau.dk"
   ]
  },
  {
   "cell_type": "markdown",
   "metadata": {},
   "source": [
    "# Initial setup"
   ]
  },
  {
   "cell_type": "code",
   "execution_count": null,
   "metadata": {},
   "outputs": [],
   "source": [
    "import brightway2 as bw\n",
    "import pandas as pd\n",
    "import numpy as np\n",
    "import matplotlib.pyplot as plt\n",
    "from lci_to_bw2 import lci_to_bw2"
   ]
  },
  {
   "cell_type": "code",
   "execution_count": null,
   "metadata": {},
   "outputs": [],
   "source": [
    "bw.projects.set_current('PlastiSea2')\n",
    "bw.databases"
   ]
  },
  {
   "cell_type": "code",
   "execution_count": null,
   "metadata": {},
   "outputs": [],
   "source": [
    "# Import the biosphere3 database\n",
    "#bw.bw2setup()"
   ]
  },
  {
   "cell_type": "code",
   "execution_count": null,
   "metadata": {
    "scrolled": true
   },
   "outputs": [],
   "source": [
    "# Import ecoinvent\n",
    "\n",
    "# You need to change the line below with the directory where you have saved ecoinvent\n",
    "#ei38dir = \"/Users/massimo/Documents/Databases/ecoinvent v3.8.1/ecoinvent 3.8_consequential_ecoSpold02/datasets\"\n",
    "\n",
    "#if 'ecoinvent 3.8_conseq' in bw.databases:\n",
    "#    print(\"Database has already been imported\")\n",
    "#else:\n",
    "#    ei38 = bw.SingleOutputEcospold2Importer(ei38dir, 'ecoinvent 3.8_conseq') # You can give it another name of course\n",
    "#    ei38.apply_strategies()\n",
    "#    ei38.statistics()\n",
    "\n",
    "#ei38.drop_unlinked(True)\n",
    "#ei38.write_database() # This will take some time."
   ]
  },
  {
   "cell_type": "markdown",
   "metadata": {},
   "source": [
    "# Import excel data of foreground system"
   ]
  },
  {
   "cell_type": "code",
   "execution_count": null,
   "metadata": {},
   "outputs": [],
   "source": [
    "# create .csv files with inventories\n",
    "inventories = pd.read_excel('../Data/Seaweed-plastic-inventory.xlsx', sheet_name=None, index_col = 0, header = 0)\n",
    "for key in inventories.keys(): \n",
    "    inventories[key].to_csv('../Data/%s.csv' %key)"
   ]
  },
  {
   "cell_type": "code",
   "execution_count": null,
   "metadata": {},
   "outputs": [],
   "source": [
    "# list of foreground database names for this project\n",
    "myfgdatabases = [i for i in inventories.keys()]\n",
    "myfgdatabases"
   ]
  },
  {
   "cell_type": "code",
   "execution_count": null,
   "metadata": {},
   "outputs": [],
   "source": [
    "# Creating brightway dictionaries and writing them as databases\n",
    "for fgdb in myfgdatabases:\n",
    "    mydb = pd.read_csv( (fgdb +'.csv'), header = 0, sep = \",\")\n",
    "    \n",
    "    mydb = mydb.drop(['Simapro name','Notes',\n",
    "                  'Pedigree Reliability','Pedigree Completeness',\n",
    "                  'Pedigree Temporal correlation','Pedigree geographical correlation',\n",
    "                  'Further technological correlation'], 1)  # remove the columns not needed\n",
    "    \n",
    "    mydb['Exchange uncertainty type'] = mydb['Exchange uncertainty type'].fillna(0).astype(int) # uncertainty as integers\n",
    "    \n",
    "    #Check that units in foreground-bagkround math\n",
    "    mycodes = mydb.loc[mydb['Exchange database'] == \"ecoinvent 3.8_conseq\"]['Exchange input']\n",
    "    myunits = mydb.loc[mydb['Exchange database'] == \"ecoinvent 3.8_conseq\"]['Exchange unit']\n",
    "    bwunits = [bw.Database('ecoinvent 3.8_conseq').get(i)['unit'] for i in mycodes]\n",
    "    checkunits = pd.DataFrame({'codes':mycodes, 'myunits':myunits, 'bwunits': bwunits})\n",
    "    print(any(checkunits['myunits'] == checkunits['bwunits']))\n",
    "    \n",
    "    mydb_dict = lci_to_bw2(mydb) \n",
    "    \n",
    "    if fgdb in bw.databases: \n",
    "        del bw.databases[fgdb]\n",
    "    \n",
    "    PS_db = bw.Database(fgdb)\n",
    "    PS_db.write(mydb_dict)\n"
   ]
  },
  {
   "cell_type": "code",
   "execution_count": null,
   "metadata": {},
   "outputs": [],
   "source": [
    "bw.databases"
   ]
  },
  {
   "cell_type": "code",
   "execution_count": null,
   "metadata": {},
   "outputs": [],
   "source": [
    "# check it worked\n",
    "activities = [(fgdb, act['code']) for fgdb in myfgdatabases for act in bw.Database(fgdb)]\n",
    "activities"
   ]
  },
  {
   "cell_type": "markdown",
   "metadata": {},
   "source": [
    "## Modify the background database to remove all uncertainty\n",
    "\n",
    "See tutorial here: https://github.com/brightway-lca/brightway2/blob/master/notebooks/Switch%20lognormal%20median%20to%20average.ipynb"
   ]
  },
  {
   "cell_type": "markdown",
   "metadata": {},
   "source": [
    "**This will take some time!**"
   ]
  },
  {
   "cell_type": "code",
   "execution_count": null,
   "metadata": {},
   "outputs": [],
   "source": [
    "ei_original = bw.Database('ecoinvent 3.8_conseq')\n",
    "\n",
    "if 'ecoinvent 3.8_conseq no uncertainty' in bw.databases:\n",
    "    del bw.databases['ecoinvent 3.8_conseq no uncertainty']\n",
    "\n",
    "db = ei_original.copy('ecoinvent 3.8_conseq no uncertainty')"
   ]
  },
  {
   "cell_type": "code",
   "execution_count": null,
   "metadata": {},
   "outputs": [],
   "source": [
    "data = db.load()"
   ]
  },
  {
   "cell_type": "code",
   "execution_count": null,
   "metadata": {},
   "outputs": [],
   "source": [
    "for key, ds in data.items():\n",
    "    for exc in ds.get('exchanges', []):\n",
    "        exc[\"uncertainty type\"] = 0"
   ]
  },
  {
   "cell_type": "code",
   "execution_count": null,
   "metadata": {},
   "outputs": [],
   "source": [
    "db.write(data)\n",
    "db.process()"
   ]
  },
  {
   "cell_type": "code",
   "execution_count": null,
   "metadata": {},
   "outputs": [],
   "source": [
    "# check keys are the same\n",
    "original_db_keys = sorted(bw.Database(\"ecoinvent 3.8_conseq\").load().keys())\n",
    "modified_db_keys = sorted(db.load().keys())\n",
    "original_db_keys[:3], modified_db_keys[:3]"
   ]
  },
  {
   "cell_type": "code",
   "execution_count": null,
   "metadata": {},
   "outputs": [],
   "source": [
    "# check uncertainty is not there\n",
    "testexc = list(db.random().exchanges())[0]\n",
    "print(testexc)\n",
    "print(testexc['uncertainty type'])\n",
    "print(testexc.uncertainty)\n"
   ]
  },
  {
   "cell_type": "markdown",
   "metadata": {},
   "source": [
    "## Make a copy of the original foreground database and link it to the background database without uncertainty"
   ]
  },
  {
   "cell_type": "code",
   "execution_count": null,
   "metadata": {},
   "outputs": [],
   "source": [
    "# clear up first in case there are already nbu (\"no background uncertainty\") databases\n",
    "for nbu_name in [i for i in bw.databases if ' nbu' in i]:\n",
    "    #print(nbu_name)\n",
    "    del(bw.databases[nbu_name])"
   ]
  },
  {
   "cell_type": "code",
   "execution_count": null,
   "metadata": {},
   "outputs": [],
   "source": [
    "bw.databases"
   ]
  },
  {
   "cell_type": "code",
   "execution_count": null,
   "metadata": {},
   "outputs": [],
   "source": [
    "myfgdatabases"
   ]
  },
  {
   "cell_type": "code",
   "execution_count": null,
   "metadata": {},
   "outputs": [],
   "source": [
    "for fg in myfgdatabases:\n",
    "    \n",
    "    fg_original = bw.Database(fg)\n",
    "    \n",
    "    if fg + ' nbu' in bw.databases:         \n",
    "        del bw.databases[fg]\n",
    "    fg_nbu = fg_original.copy(fg + ' nbu') # nbu = No Background Uncertainty\n",
    "        \n",
    "    fg_data = fg_nbu.load()\n",
    "    \n",
    "    for key, ds in fg_data.items():\n",
    "        for exc in ds.get(\"exchanges\", []):\n",
    "            if exc[\"input\"][0] == \"ecoinvent 3.8_conseq\":\n",
    "                exc[\"input\"] = (\"ecoinvent 3.8_conseq no uncertainty\", exc[\"input\"][1])\n",
    "    \n",
    "    fg_nbu.write(fg_data)\n",
    "    fg_nbu.process()"
   ]
  },
  {
   "cell_type": "code",
   "execution_count": null,
   "metadata": {},
   "outputs": [],
   "source": [
    "bw.databases"
   ]
  },
  {
   "cell_type": "code",
   "execution_count": null,
   "metadata": {},
   "outputs": [],
   "source": [
    "# Quick LCA\n",
    "\n",
    "#myact = bw.Database('PS pilot').get('Nutrients')\n",
    "myact = bw.Database('PS pilot (base)').get('Use and biowaste')\n",
    "#myact = bw.Database('PS pilot (base) nbu').get('Treatment, biowaste')\n",
    "#myact = bw.Database(\"ecoinvent 3.8_conseq\").get('8bd2cd7f7a485472795f30c522636466')\n",
    "print(myact)\n",
    "mymethod = ('IPCC 2013', 'climate change', 'GWP 100a')\n",
    "mymethod\n",
    "functional_unit = {myact : 1}\n",
    "lca = bw.LCA(functional_unit, mymethod)\n",
    "lca.lci()\n",
    "lca.lcia()\n",
    "print(lca.score)"
   ]
  },
  {
   "cell_type": "code",
   "execution_count": null,
   "metadata": {},
   "outputs": [],
   "source": [
    "# Quick comparative MC (independent sampling, likely overestimating variance)\n",
    "samples = 250 \n",
    "mymethod = ('IPCC 2013', 'climate change', 'GWP 100a')\n",
    "\n",
    "# first with bg uncertainty \n",
    "myact = bw.Database('PS pilot (base)').get('Use and biowaste')\n",
    "mc = bw.MonteCarloLCA({myact : 1}, mymethod)\n",
    "mc_results = [next(mc) for x in range(samples)] \n",
    "print(np.median(mc_results),np.std(mc_results))\n",
    "\n",
    "# now without bg uncertainty\n",
    "_myact = bw.Database('PS pilot (base) nbu').get('Use and biowaste')\n",
    "_mc = bw.MonteCarloLCA({_myact : 1}, mymethod) \n",
    "_mc_results = [next(_mc) for x in range(samples)] \n",
    "print(np.median(_mc_results), np.std(_mc_results))\n"
   ]
  },
  {
   "cell_type": "code",
   "execution_count": null,
   "metadata": {},
   "outputs": [],
   "source": [
    "# plot\n",
    "df = pd.DataFrame({'bu': mc_results, 'nbu': _mc_results})\n",
    "df.plot(kind = 'box')\n",
    "plt.xticks(rotation=90)"
   ]
  },
  {
   "cell_type": "code",
   "execution_count": null,
   "metadata": {},
   "outputs": [],
   "source": [
    "# more plot \n",
    "plt.hist(mc_results)\n",
    "plt.hist(_mc_results)"
   ]
  },
  {
   "cell_type": "code",
   "execution_count": null,
   "metadata": {},
   "outputs": [],
   "source": [
    "# stats\n",
    "df.describe()"
   ]
  },
  {
   "cell_type": "markdown",
   "metadata": {},
   "source": [
    "# Create a LCIA method for biogenic Carbon Dioxide"
   ]
  },
  {
   "cell_type": "code",
   "execution_count": null,
   "metadata": {},
   "outputs": [],
   "source": [
    "ipcc13_bio_cf = [[('biosphere3', '73ed05cc-9727-4abf-9516-4b5c0fe54a16'), 1.0], # 'Carbon dioxide, non-fossil' (kilogram, None, ('air', 'urban air close to ground'))\n",
    "              [('biosphere3', 'baf58fc9-573c-419c-8c16-831ac03203b9'), 30.5]] # 'Methane, non-fossil' (kilogram, None, ('air', 'urban air close to ground'))\n",
    "\n",
    "\n",
    "ipcc13_bio_key = ('IPCC 2013', 'climate change-biogenic', 'GWP 100a')\n",
    "ipcc13_bio = bw.Method(ipcc13_bio_key)\n",
    "ipcc13_bio.validate(ipcc13_bio_cf)\n",
    "ipcc13_bio.register() \n",
    "ipcc13_bio.write(ipcc13_bio_cf)\n",
    "ipcc13_bio.load()"
   ]
  },
  {
   "cell_type": "code",
   "execution_count": null,
   "metadata": {},
   "outputs": [],
   "source": [
    "# Quick LCA\n",
    "myact = bw.Database('PS pilot (base)').get('Use and biowaste')\n",
    "print(myact)\n",
    "\n",
    "mymethod = ('IPCC 2013', 'climate change', 'GWP 100a')\n",
    "fu = {myact : 1}\n",
    "lca = bw.LCA(fu, mymethod)\n",
    "lca.lci()\n",
    "lca.lcia()\n",
    "GWfossil = lca.score\n",
    "print('fossil',lca.score)\n",
    "\n",
    "lca.switch_method(('IPCC 2013', 'climate change-biogenic', 'GWP 100a'))\n",
    "lca.lcia()\n",
    "GWbiogen = lca.score\n",
    "print('biogenic',lca.score)\n",
    "print('total',GWfossil+GWbiogen)"
   ]
  },
  {
   "cell_type": "markdown",
   "metadata": {},
   "source": [
    "# Calculate multiple static results"
   ]
  },
  {
   "cell_type": "code",
   "execution_count": null,
   "metadata": {},
   "outputs": [],
   "source": [
    "# initialize a database aggregating all databases first, to obtain a large tech matrix."
   ]
  },
  {
   "cell_type": "code",
   "execution_count": null,
   "metadata": {},
   "outputs": [],
   "source": [
    "dummy_db = bw.Database('dummydb')"
   ]
  },
  {
   "cell_type": "code",
   "execution_count": null,
   "metadata": {},
   "outputs": [],
   "source": [
    "dummy_db.write({('dummydb', 'dummyactivity'):{\n",
    "    'name': 'a dummy activity to initilize multiple databases',# Note that a tuple is used to identify an activity univocally\n",
    "    'exchanges': [{'input': ('dummydb', 'dummyactivity'), 'amount': 1, 'type': 'production'},\n",
    "                  {'input': ('PS pilot', 'Seaweed, offshore farm'), 'amount': 0, 'unit' : 'kilogram','type': 'technosphere'},\n",
    "                  {'input': ('PS pilot (base)', 'Use and biowaste'),'amount': 0,'unit' : 'kilogram','type': 'technosphere'},\n",
    "                  {'input': ('PS pilot (cellulose)', 'Use and biowaste'),'amount': 0,'unit' : 'kilogram','type': 'technosphere'},\n",
    "                  {'input': ('PS pilot (mannitol)', 'Use and biowaste'),'amount': 0,'unit' : 'kilogram','type': 'technosphere'},\n",
    "                  {'input': ('PS pilot (PLA5)', 'Use and biowaste'),'amount': 0,'unit' : 'kilogram','type': 'technosphere'},\n",
    "                  {'input': ('PS pilot (PLA30)', 'Use and biowaste'),'amount': 0,'unit' : 'kilogram','type': 'technosphere'}]}})"
   ]
  },
  {
   "cell_type": "code",
   "execution_count": null,
   "metadata": {},
   "outputs": [],
   "source": [
    "# Quick LCA\n",
    "myact = bw.Database('dummydb').get('dummyactivity')\n",
    "print(myact)\n",
    "mymethod = ('IPCC 2013', 'climate change', 'GWP 100a')\n",
    "mymethod\n",
    "functional_unit = {myact : 1}\n",
    "lca = bw.LCA(functional_unit, mymethod)\n",
    "lca.lci()\n",
    "lca.lcia()\n",
    "print(lca.score)"
   ]
  },
  {
   "cell_type": "code",
   "execution_count": null,
   "metadata": {},
   "outputs": [],
   "source": [
    "myfgdatabases = ['PS pilot', 'PS pilot (base)',\n",
    "                 'PS pilot (mannitol)', 'PS pilot (cellulose)',\n",
    "                 'PS pilot (PLA30)','PS pilot (PLA5)']"
   ]
  },
  {
   "cell_type": "code",
   "execution_count": null,
   "metadata": {},
   "outputs": [],
   "source": [
    "alternatives = [(fgdb, act['code']) for fgdb in myfgdatabases for act in bw.Database(fgdb) if 'Use' in act['name']]\n",
    "alternatives"
   ]
  },
  {
   "cell_type": "code",
   "execution_count": null,
   "metadata": {},
   "outputs": [],
   "source": [
    "results_ccf = []\n",
    "results_ccb = []\n",
    "\n",
    "for act in alternatives:\n",
    "    lca.switch_method(('IPCC 2013', 'climate change', 'GWP 100a'))\n",
    "    lca.redo_lcia({bw.Database(act[0]).get(act[1]):1})\n",
    "    results_ccf.append(lca.score)\n",
    "    lca.switch_method(('IPCC 2013', 'climate change-biogenic', 'GWP 100a'))\n",
    "    lca.redo_lcia({bw.Database(act[0]).get(act[1]):1})\n",
    "    results_ccb.append(lca.score)\n",
    "    "
   ]
  },
  {
   "cell_type": "code",
   "execution_count": null,
   "metadata": {},
   "outputs": [],
   "source": [
    "static_results = pd.DataFrame([results_ccf, results_ccb], index = ['CC fossil', 'CC biogenic'], columns = alternatives).T"
   ]
  },
  {
   "cell_type": "code",
   "execution_count": null,
   "metadata": {},
   "outputs": [],
   "source": [
    "static_results['CC total'] = static_results['CC fossil'] +static_results['CC biogenic']"
   ]
  },
  {
   "cell_type": "code",
   "execution_count": null,
   "metadata": {},
   "outputs": [],
   "source": [
    "static_results"
   ]
  },
  {
   "cell_type": "code",
   "execution_count": null,
   "metadata": {},
   "outputs": [],
   "source": [
    "# export values\n",
    "static_results.to_csv('../Results/static_results.csv')"
   ]
  },
  {
   "cell_type": "markdown",
   "metadata": {},
   "source": [
    "# Monte Carlo simulation"
   ]
  },
  {
   "cell_type": "markdown",
   "metadata": {},
   "source": [
    "### Correction of overestimated MC values.\n",
    "Some ecoinvent datasets have insanely high uncertainty. This is likely an error or overestimation and skews results so this uncertainty was removed. \n",
    "See here: https://stackoverflow.com/questions/72807629/overestimated-monte-carlo-results-in-brightway/72821344#72821344"
   ]
  },
  {
   "cell_type": "code",
   "execution_count": null,
   "metadata": {},
   "outputs": [],
   "source": [
    "myact = bw.Database('ecoinvent 3.8_conseq').get('d31acf4564148f0ef483a140317caf37') #cellulose fibre production' (kilogram, CH, None)>\n",
    "for exc in list(myact.exchanges()):\n",
    "    if exc['uncertainty type'] == 5:\n",
    "        exc['uncertainty type'] = 0\n",
    "        exc.save()"
   ]
  },
  {
   "cell_type": "code",
   "execution_count": null,
   "metadata": {},
   "outputs": [],
   "source": [
    "# Quick LCA to check\n",
    "myact = bw.Database('ecoinvent 3.8_conseq').get('d31acf4564148f0ef483a140317caf37') #'tissue paper production, virgin' (kilogram, GLO, None)\n",
    "#myact = bw.Database('PS pilot (base)').get('Use and biowaste') # can also check using this.\n",
    "\n",
    "print(myact)\n",
    "fu = {myact: 1}\n",
    "mymethod = ('IPCC 2013', 'climate change', 'GWP 100a')\n",
    "\n",
    "lca = bw.LCA(fu, mymethod)\n",
    "lca.lci()\n",
    "lca.lcia()\n",
    "print(lca.score)\n",
    "\n",
    "mc = bw.MonteCarloLCA(fu, mymethod)  \n",
    "mc_results = [next(mc) for x in range(50)] \n",
    "print(np.median(mc_results))\n",
    "\n",
    "# Look at the MC results\n",
    "plt.hist(mc_results, density=True)\n",
    "plt.ylabel(\"Probability\")\n",
    "plt.xlabel('lca.score')"
   ]
  },
  {
   "cell_type": "markdown",
   "metadata": {},
   "source": [
    "### Initialize database"
   ]
  },
  {
   "cell_type": "code",
   "execution_count": null,
   "metadata": {},
   "outputs": [],
   "source": [
    "all_myfgdbs = [i for i in bw.databases if i not in ['biosphere3','ecoinvent 3.8_conseq', 'ecoinvent 3.8_conseq no uncertainty']]\n",
    "alternatives = [(fgdb, act['code']) for fgdb in all_myfgdbs for act in bw.Database(fgdb) if 'Use' in act['name']]"
   ]
  },
  {
   "cell_type": "code",
   "execution_count": null,
   "metadata": {},
   "outputs": [],
   "source": [
    "alternatives"
   ]
  },
  {
   "cell_type": "code",
   "execution_count": null,
   "metadata": {},
   "outputs": [],
   "source": [
    "prod = {'input': ('dummydb mc', 'dummyactivity'), 'amount': 1, 'type': 'production'}\n",
    "techn = [{'input': alt, 'amount' : 0, 'type' : 'technosphere', 'unit' : 'kilogram'} for alt in alternatives]\n",
    "techn.append(prod)\n",
    "\n",
    "\n",
    "dummy_db_mc = bw.Database('dummydb mc')\n",
    "dummy_db_mc.write({('dummydb mc', 'dummyactivity'):{\n",
    "    'name': 'a dummy activity to initilize multiple databases - for montecarlo',# Note that a tuple is used to identify an activity univocally\n",
    "    'exchanges': techn}})"
   ]
  },
  {
   "cell_type": "code",
   "execution_count": null,
   "metadata": {
    "scrolled": true
   },
   "outputs": [],
   "source": [
    "dummy_fu = {bw.Database('dummydb mc').get('dummyactivity') : 1}\n",
    "mymethod = ('IPCC 2013', 'climate change', 'GWP 100a')\n",
    "mc = bw.MonteCarloLCA(dummy_fu, mymethod) # important to initialize the MC simulation\n",
    "next(mc)"
   ]
  },
  {
   "cell_type": "markdown",
   "metadata": {},
   "source": [
    "This will take some time!!!"
   ]
  },
  {
   "cell_type": "code",
   "execution_count": null,
   "metadata": {},
   "outputs": [],
   "source": [
    "dummy_fu = {bw.Database('dummydb mc').get('dummyactivity') : 1}\n",
    "mymethod = ('IPCC 2013', 'climate change', 'GWP 100a')\n",
    "mc = bw.MonteCarloLCA(dummy_fu, mymethod) # important to initialize the MC simulation\n",
    "next(mc)\n",
    "\n",
    "iterations = 1000\n",
    "simulations_f = []\n",
    "simulations_b = []\n",
    "\n",
    "for _ in range(iterations):\n",
    "    print(_)\n",
    "    next(mc)\n",
    "    mcresults_b = []\n",
    "    mcresults_f = []    \n",
    "\n",
    "    for i in alternatives:\n",
    "        \n",
    "        mc.switch_method(('IPCC 2013', 'climate change-biogenic', 'GWP 100a'))\n",
    "        mc.redo_lcia({bw.Database(i[0]).get(i[1]):1}) \n",
    "        mcresults_b.append(mc.score)\n",
    "        \n",
    "        mc.switch_method(('IPCC 2013', 'climate change', 'GWP 100a'))\n",
    "        mc.redo_lcia({bw.Database(i[0]).get(i[1]):1}) \n",
    "        mcresults_f.append(mc.score)\n",
    "    \n",
    "    simulations_b.append(mcresults_b)\n",
    "    simulations_f.append(mcresults_f)\n"
   ]
  },
  {
   "cell_type": "code",
   "execution_count": null,
   "metadata": {},
   "outputs": [],
   "source": [
    "df_f = pd.DataFrame(simulations_f, columns = alternatives)\n",
    "df_f.head()"
   ]
  },
  {
   "cell_type": "code",
   "execution_count": null,
   "metadata": {},
   "outputs": [],
   "source": [
    "df_b = pd.DataFrame(simulations_b, columns = alternatives)\n",
    "df_b.head()"
   ]
  },
  {
   "cell_type": "code",
   "execution_count": null,
   "metadata": {},
   "outputs": [],
   "source": [
    "df_t = df_f + df_b"
   ]
  },
  {
   "cell_type": "code",
   "execution_count": null,
   "metadata": {},
   "outputs": [],
   "source": [
    "df_t.describe()"
   ]
  },
  {
   "cell_type": "code",
   "execution_count": null,
   "metadata": {},
   "outputs": [],
   "source": [
    "df_t.plot(kind = 'box')\n",
    "plt.xticks(rotation=90)"
   ]
  },
  {
   "cell_type": "code",
   "execution_count": null,
   "metadata": {},
   "outputs": [],
   "source": [
    "df_f.to_csv('../Results/mc_CC_fossil.csv')\n",
    "df_b.to_csv('../Results/mc_CC_biogenic.csv')\n",
    "df_t.to_csv('../Results/mc_CC_total.csv')\n",
    "df_t.describe().to_csv('../Results/mc_CC_total_summary_stats.csv')"
   ]
  }
 ],
 "metadata": {
  "kernelspec": {
   "display_name": "Python 3 (ipykernel)",
   "language": "python",
   "name": "python3"
  },
  "language_info": {
   "codemirror_mode": {
    "name": "ipython",
    "version": 3
   },
   "file_extension": ".py",
   "mimetype": "text/x-python",
   "name": "python",
   "nbconvert_exporter": "python",
   "pygments_lexer": "ipython3",
   "version": "3.10.5"
  }
 },
 "nbformat": 4,
 "nbformat_minor": 2
}
